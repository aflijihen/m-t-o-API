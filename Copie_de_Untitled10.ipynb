{
  "nbformat": 4,
  "nbformat_minor": 0,
  "metadata": {
    "colab": {
      "provenance": [],
      "authorship_tag": "ABX9TyN0ctD6O4KAa8dm1YZLSIgo",
      "include_colab_link": true
    },
    "kernelspec": {
      "name": "python3",
      "display_name": "Python 3"
    },
    "language_info": {
      "name": "python"
    }
  },
  "cells": [
    {
      "cell_type": "markdown",
      "metadata": {
        "id": "view-in-github",
        "colab_type": "text"
      },
      "source": [
        "<a href=\"https://colab.research.google.com/github/aflijihen/m-t-o-API/blob/main/Copie_de_Untitled10.ipynb\" target=\"_parent\"><img src=\"https://colab.research.google.com/assets/colab-badge.svg\" alt=\"Open In Colab\"/></a>"
      ]
    },
    {
      "cell_type": "code",
      "source": [
        "import requests\n",
        "api_url = \"https://api.weatherapi.com/v1/current.json\"\n",
        "\n",
        "\n",
        "# Paramètres de la requête (ville spécifique, clé d'API, etc.)\n",
        "params = {'q': 'tunis',\n",
        "          'key':'611f3e27285b4260842190210241102',\n",
        "         }\n",
        "\n",
        "# Effectuer la requête GET à l'API Météo\n",
        "response = requests.get(api_url, params=params)\n",
        "#traite directement la réponse après l'appel à requests.get(). Les informations météorologiques sont directement extraites et affichées dans le script principal.\n",
        "\n",
        "# Vérifier si la requête a réussi (statut 200)\n",
        "if response.status_code == 200:    # utilisée pour vérifier si une requête HTTP a été effectuée avec succès\n",
        "    data = response.json()\n",
        "    print(f\"Ville: {data.get('location', {}).get('name', 'Non spécifiée')}\")\n",
        "    print(f\"Température: {data.get('current', {}).get('temp_c', 'Non spécifiée')}°C\")\n",
        "    print(f\"Conditions: {data.get('current', {}).get('condition', {}).get('text', 'Non spécifiées')}\")\n",
        "else:\n",
        "    if response.status_code == 401:\n",
        "        print(\"Erreur 401: Clé d'API non valide ou non autorisée.\")\n",
        "    else:\n",
        "        print(f\"Erreur {response.status_code}: Impossible de récupérer les données météorologiques.\")"
      ],
      "metadata": {
        "colab": {
          "base_uri": "https://localhost:8080/"
        },
        "id": "9FX6gEf7Tt9F",
        "outputId": "8128dc4b-5aa1-4509-f9ec-9632cec97594"
      },
      "execution_count": null,
      "outputs": [
        {
          "output_type": "stream",
          "name": "stdout",
          "text": [
            "Ville: Tunis\n",
            "Température: 16.0°C\n",
            "Conditions: Partly cloudy\n"
          ]
        }
      ]
    }
  ]
}