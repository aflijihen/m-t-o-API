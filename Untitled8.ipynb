{
  "nbformat": 4,
  "nbformat_minor": 0,
  "metadata": {
    "colab": {
      "provenance": [],
      "authorship_tag": "ABX9TyPcSo+GOBwQ08/Rrxq9E3VU",
      "include_colab_link": true
    },
    "kernelspec": {
      "name": "python3",
      "display_name": "Python 3"
    },
    "language_info": {
      "name": "python"
    }
  },
  "cells": [
    {
      "cell_type": "markdown",
      "metadata": {
        "id": "view-in-github",
        "colab_type": "text"
      },
      "source": [
        "<a href=\"https://colab.research.google.com/github/aflijihen/m-t-o-API/blob/main/Untitled8.ipynb\" target=\"_parent\"><img src=\"https://colab.research.google.com/assets/colab-badge.svg\" alt=\"Open In Colab\"/></a>"
      ]
    },
    {
      "cell_type": "code",
      "execution_count": null,
      "metadata": {
        "id": "ywBiPAYHN-Wh"
      },
      "outputs": [],
      "source": [
        "import requests\n"
      ]
    },
    {
      "cell_type": "code",
      "source": [
        "api_key = \"a780a7e512c9fd75afcc697f611b850d\"\n",
        "\n",
        "def get_weather_data(city):\n",
        "    base_url = \"http://api.openweathermap.org/data/2.5/weather\"\n",
        "    params = {\"q\": city, \"appid\": api_key, \"units\": \"metric\"}  # Vous pouvez ajuster les paramètres selon votre besoin\n",
        "\n",
        "    response = requests.get(base_url, params=params)\n",
        "    weather_data = response.json()\n",
        "\n",
        "    return weather_data\n"
      ],
      "metadata": {
        "id": "5AMPPLd8ObKj"
      },
      "execution_count": null,
      "outputs": []
    },
    {
      "cell_type": "code",
      "source": [
        "city_name = \"tunis\"\n",
        "data = get_weather_data(city_name) # la réponse JSON de l'API dans une fonction get_weather_data(). La fonction renvoie directement les données météorologiques.\n",
        "# Extrayez les informations spécifiques\n",
        "temperature = data['main']['temp']\n",
        "humidity = data['main']['humidity']\n",
        "wind_speed = data['wind']['speed']\n",
        "\n",
        "# Créez une nouvelle structure de données\n",
        "formatted_data = {\n",
        "    \"temperature\": temperature ,\n",
        "    \"humidity\": humidity,\n",
        "    \"wind\": wind_speed\n",
        "}\n",
        "print(formatted_data)\n"
      ],
      "metadata": {
        "colab": {
          "base_uri": "https://localhost:8080/"
        },
        "id": "3j3z0ktCP_E6",
        "outputId": "4871f4cc-024b-4668-8400-29fddcaebc00"
      },
      "execution_count": null,
      "outputs": [
        {
          "output_type": "stream",
          "name": "stdout",
          "text": [
            "{'temperature': 16.89, 'humidity': 28, 'wind': 4.23}\n"
          ]
        }
      ]
    }
  ]
}